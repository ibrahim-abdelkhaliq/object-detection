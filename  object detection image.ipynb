{
 "cells": [
  {
   "cell_type": "code",
   "execution_count": 57,
   "id": "a3092abd",
   "metadata": {
    "scrolled": true
   },
   "outputs": [],
   "source": [
    "import cv2\n",
    "import numpy as np "
   ]
  },
  {
   "cell_type": "code",
   "execution_count": 58,
   "id": "b7e63993",
   "metadata": {},
   "outputs": [],
   "source": [
    "# load Yolo\n",
    "net = cv2.dnn.readNet(\"yolov3.weights\", \"yolov3.cfg\")\n",
    "classes = []\n",
    "with open(\"coco.names\", \"r\")as f:\n",
    "    classes = [line.strip() for line in f.readlines()]\n",
    "layer_names = net.getLayerNames()\n",
    "output_layers = [layer_names[i[0] - 1] for i in net.getUnconnectedOutLayers()]\n",
    "colors = np.random.uniform(0, 255, size=(len(classes), 3))"
   ]
  },
  {
   "cell_type": "code",
   "execution_count": 54,
   "id": "f8566f72",
   "metadata": {
    "scrolled": true
   },
   "outputs": [
    {
     "name": "stdout",
     "output_type": "stream",
     "text": [
      "[array([[0.03708483, 0.04561232, 0.4647258 , ..., 0.        , 0.        ,\n",
      "        0.        ],\n",
      "       [0.04605443, 0.03018425, 0.31607994, ..., 0.        , 0.        ,\n",
      "        0.        ],\n",
      "       [0.04627465, 0.03280478, 0.83050907, ..., 0.        , 0.        ,\n",
      "        0.        ],\n",
      "       ...,\n",
      "       [0.95988727, 0.95052016, 0.42198214, ..., 0.        , 0.        ,\n",
      "        0.        ],\n",
      "       [0.96299464, 0.9636949 , 0.30896086, ..., 0.        , 0.        ,\n",
      "        0.        ],\n",
      "       [0.96575606, 0.96277374, 0.88075316, ..., 0.        , 0.        ,\n",
      "        0.        ]], dtype=float32), array([[0.01977936, 0.02624633, 0.04531513, ..., 0.        , 0.        ,\n",
      "        0.        ],\n",
      "       [0.02069391, 0.02113351, 0.3559158 , ..., 0.        , 0.        ,\n",
      "        0.        ],\n",
      "       [0.02491931, 0.01596277, 0.0789665 , ..., 0.        , 0.        ,\n",
      "        0.        ],\n",
      "       ...,\n",
      "       [0.9741496 , 0.97720283, 0.04959772, ..., 0.        , 0.        ,\n",
      "        0.        ],\n",
      "       [0.98274577, 0.97717446, 0.35894236, ..., 0.        , 0.        ,\n",
      "        0.        ],\n",
      "       [0.97939616, 0.9826566 , 0.0743707 , ..., 0.        , 0.        ,\n",
      "        0.        ]], dtype=float32), array([[0.00900318, 0.00804673, 0.01534723, ..., 0.        , 0.        ,\n",
      "        0.        ],\n",
      "       [0.01066365, 0.01237279, 0.02278505, ..., 0.        , 0.        ,\n",
      "        0.        ],\n",
      "       [0.01073524, 0.01025409, 0.15793031, ..., 0.        , 0.        ,\n",
      "        0.        ],\n",
      "       ...,\n",
      "       [0.98867327, 0.990594  , 0.01888946, ..., 0.        , 0.        ,\n",
      "        0.        ],\n",
      "       [0.98960584, 0.9875235 , 0.01976284, ..., 0.        , 0.        ,\n",
      "        0.        ],\n",
      "       [0.9874137 , 0.99110734, 0.16318822, ..., 0.        , 0.        ,\n",
      "        0.        ]], dtype=float32)]\n"
     ]
    }
   ],
   "source": [
    "#loading image\n",
    "img = cv2.imread(\"test-image.jpg\")\n",
    "img = cv2.resize(img, None, fx=2.5, fy=2.5)\n",
    "height, width, channels = img.shape\n",
    "\n",
    "blob = cv2.dnn.blobFromImage(img, 0.00392, (416, 416), (0, 0, 0), True, crop=False)\n",
    "\n",
    "\n",
    "net.setInput(blob)\n",
    "outs = net.forward(output_layers)\n",
    "print(outs)"
   ]
  },
  {
   "cell_type": "code",
   "execution_count": 55,
   "id": "500a1f04",
   "metadata": {},
   "outputs": [
    {
     "name": "stdout",
     "output_type": "stream",
     "text": [
      "30\n",
      "[[28]\n",
      " [ 3]\n",
      " [ 4]\n",
      " [16]\n",
      " [10]\n",
      " [ 8]\n",
      " [ 9]]\n"
     ]
    }
   ],
   "source": [
    "# Showing informations on the screen\n",
    "class_ids = []\n",
    "confidences = []\n",
    "boxes = []\n",
    "for out in outs:\n",
    "    for detection in out:\n",
    "        scores = detection[5:]\n",
    "        class_id = np.argmax(scores)\n",
    "        confidence = scores[class_id]\n",
    "        if confidence > 0.5:\n",
    "            # Object detected\n",
    "            center_x = int(detection[0] * width)\n",
    "            center_y = int(detection[1] * height)\n",
    "            w = int(detection[2] * width)\n",
    "            h = int(detection[3] * height)\n",
    "            \n",
    "            # Rectangle coordinates\n",
    "            x = int(center_x - w / 2)\n",
    "            y = int(center_y - h / 2)\n",
    "            \n",
    "            boxes.append([x, y, w, h])\n",
    "            confidences.append(float(confidence))\n",
    "            class_ids.append(class_id)\n",
    "print(len(boxes))\n",
    "indexes = cv2.dnn.NMSBoxes(boxes, confidences, 0.5, 0.4)\n",
    "print(indexes)\n",
    "font = cv2.FONT_HERSHEY_PLAIN\n",
    "for i in range(len(boxes)):\n",
    "    if i in indexes:\n",
    "        x, y, w, h = boxes[i]\n",
    "        label = str(classes[class_ids[i]])\n",
    "        color = colors[i]\n",
    "        cv2.rectangle(img, (x, y), (x + w, y + h), color, 2)\n",
    "        cv2.putText(img, label, (x, y + 30), font, 1, color, 3)"
   ]
  },
  {
   "cell_type": "code",
   "execution_count": null,
   "id": "f64f68ae",
   "metadata": {},
   "outputs": [],
   "source": []
  },
  {
   "cell_type": "code",
   "execution_count": null,
   "id": "ddb8bc70",
   "metadata": {},
   "outputs": [],
   "source": []
  },
  {
   "cell_type": "code",
   "execution_count": null,
   "id": "96fbb9c5",
   "metadata": {
    "scrolled": true
   },
   "outputs": [],
   "source": [
    "cv2.imshow(\"Image\", img)\n",
    "cv2.waitKey(0)\n",
    "cv2.destroyAllWindows()"
   ]
  },
  {
   "cell_type": "code",
   "execution_count": 11,
   "id": "f3161774",
   "metadata": {},
   "outputs": [],
   "source": []
  },
  {
   "cell_type": "code",
   "execution_count": null,
   "id": "b15a43ba",
   "metadata": {
    "scrolled": true
   },
   "outputs": [],
   "source": [
    "\n"
   ]
  },
  {
   "cell_type": "code",
   "execution_count": null,
   "id": "b8f9242b",
   "metadata": {},
   "outputs": [],
   "source": []
  },
  {
   "cell_type": "code",
   "execution_count": null,
   "id": "621af8cc",
   "metadata": {},
   "outputs": [],
   "source": []
  },
  {
   "cell_type": "code",
   "execution_count": null,
   "id": "cdb9d5e0",
   "metadata": {},
   "outputs": [],
   "source": []
  }
 ],
 "metadata": {
  "kernelspec": {
   "display_name": "Python 3 (ipykernel)",
   "language": "python",
   "name": "python3"
  },
  "language_info": {
   "codemirror_mode": {
    "name": "ipython",
    "version": 3
   },
   "file_extension": ".py",
   "mimetype": "text/x-python",
   "name": "python",
   "nbconvert_exporter": "python",
   "pygments_lexer": "ipython3",
   "version": "3.8.5"
  }
 },
 "nbformat": 4,
 "nbformat_minor": 5
}
